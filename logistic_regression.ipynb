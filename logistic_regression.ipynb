{
  "cells": [
    {
      "cell_type": "code",
      "execution_count": 1,
      "metadata": {
        "id": "am8ffZ7iyERp"
      },
      "outputs": [],
      "source": [
        "# importing the required libraries\n",
        "from sklearn.preprocessing import StandardScaler\n",
        "from sklearn.model_selection import train_test_split \n",
        "from sklearn.metrics import accuracy_score\n",
        "import numpy as np\n",
        "import matplotlib.pyplot as plt \n",
        "import pandas as pd\n",
        "\n",
        "from sklearn.model_selection import KFold\n",
        "from sklearn.preprocessing import PolynomialFeatures"
      ]
    },
    {
      "cell_type": "code",
      "execution_count": 2,
      "metadata": {
        "colab": {
          "base_uri": "https://localhost:8080/",
          "height": 300
        },
        "id": "yj3aRKouyERr",
        "outputId": "07609d43-3022-4a36-b7a6-524243a93893"
      },
      "outputs": [
        {
          "data": {
            "text/html": [
              "\n",
              "  <div id=\"df-cb366e98-ed7d-4771-bde0-a8e585dec280\">\n",
              "    <div class=\"colab-df-container\">\n",
              "      <div>\n",
              "<style scoped>\n",
              "    .dataframe tbody tr th:only-of-type {\n",
              "        vertical-align: middle;\n",
              "    }\n",
              "\n",
              "    .dataframe tbody tr th {\n",
              "        vertical-align: top;\n",
              "    }\n",
              "\n",
              "    .dataframe thead th {\n",
              "        text-align: right;\n",
              "    }\n",
              "</style>\n",
              "<table border=\"1\" class=\"dataframe\">\n",
              "  <thead>\n",
              "    <tr style=\"text-align: right;\">\n",
              "      <th></th>\n",
              "      <th>having_IP_Address</th>\n",
              "      <th>URL_Length</th>\n",
              "      <th>Shortining_Service</th>\n",
              "      <th>having_At_Symbol</th>\n",
              "      <th>double_slash_redirecting</th>\n",
              "      <th>Prefix_Suffix</th>\n",
              "      <th>having_Sub_Domain</th>\n",
              "      <th>SSLfinal_State</th>\n",
              "      <th>Domain_registeration_length</th>\n",
              "      <th>port</th>\n",
              "      <th>...</th>\n",
              "      <th>Redirect</th>\n",
              "      <th>popUpWidnow</th>\n",
              "      <th>age_of_domain</th>\n",
              "      <th>DNSRecord</th>\n",
              "      <th>web_traffic</th>\n",
              "      <th>Page_Rank</th>\n",
              "      <th>Google_Index</th>\n",
              "      <th>Links_pointing_to_page</th>\n",
              "      <th>Statistical_report</th>\n",
              "      <th>Result</th>\n",
              "    </tr>\n",
              "  </thead>\n",
              "  <tbody>\n",
              "    <tr>\n",
              "      <th>0</th>\n",
              "      <td>-1</td>\n",
              "      <td>1</td>\n",
              "      <td>1</td>\n",
              "      <td>1</td>\n",
              "      <td>-1</td>\n",
              "      <td>-1</td>\n",
              "      <td>-1</td>\n",
              "      <td>-1</td>\n",
              "      <td>-1</td>\n",
              "      <td>1</td>\n",
              "      <td>...</td>\n",
              "      <td>0</td>\n",
              "      <td>1</td>\n",
              "      <td>-1</td>\n",
              "      <td>-1</td>\n",
              "      <td>-1</td>\n",
              "      <td>-1</td>\n",
              "      <td>1</td>\n",
              "      <td>1</td>\n",
              "      <td>-1</td>\n",
              "      <td>0</td>\n",
              "    </tr>\n",
              "    <tr>\n",
              "      <th>1</th>\n",
              "      <td>1</td>\n",
              "      <td>1</td>\n",
              "      <td>1</td>\n",
              "      <td>1</td>\n",
              "      <td>1</td>\n",
              "      <td>-1</td>\n",
              "      <td>0</td>\n",
              "      <td>1</td>\n",
              "      <td>-1</td>\n",
              "      <td>1</td>\n",
              "      <td>...</td>\n",
              "      <td>0</td>\n",
              "      <td>1</td>\n",
              "      <td>-1</td>\n",
              "      <td>-1</td>\n",
              "      <td>0</td>\n",
              "      <td>-1</td>\n",
              "      <td>1</td>\n",
              "      <td>1</td>\n",
              "      <td>1</td>\n",
              "      <td>0</td>\n",
              "    </tr>\n",
              "    <tr>\n",
              "      <th>2</th>\n",
              "      <td>1</td>\n",
              "      <td>0</td>\n",
              "      <td>1</td>\n",
              "      <td>1</td>\n",
              "      <td>1</td>\n",
              "      <td>-1</td>\n",
              "      <td>-1</td>\n",
              "      <td>-1</td>\n",
              "      <td>-1</td>\n",
              "      <td>1</td>\n",
              "      <td>...</td>\n",
              "      <td>0</td>\n",
              "      <td>1</td>\n",
              "      <td>1</td>\n",
              "      <td>-1</td>\n",
              "      <td>1</td>\n",
              "      <td>-1</td>\n",
              "      <td>1</td>\n",
              "      <td>0</td>\n",
              "      <td>-1</td>\n",
              "      <td>0</td>\n",
              "    </tr>\n",
              "    <tr>\n",
              "      <th>3</th>\n",
              "      <td>1</td>\n",
              "      <td>0</td>\n",
              "      <td>1</td>\n",
              "      <td>1</td>\n",
              "      <td>1</td>\n",
              "      <td>-1</td>\n",
              "      <td>-1</td>\n",
              "      <td>-1</td>\n",
              "      <td>1</td>\n",
              "      <td>1</td>\n",
              "      <td>...</td>\n",
              "      <td>0</td>\n",
              "      <td>1</td>\n",
              "      <td>-1</td>\n",
              "      <td>-1</td>\n",
              "      <td>1</td>\n",
              "      <td>-1</td>\n",
              "      <td>1</td>\n",
              "      <td>-1</td>\n",
              "      <td>1</td>\n",
              "      <td>0</td>\n",
              "    </tr>\n",
              "    <tr>\n",
              "      <th>4</th>\n",
              "      <td>1</td>\n",
              "      <td>0</td>\n",
              "      <td>-1</td>\n",
              "      <td>1</td>\n",
              "      <td>1</td>\n",
              "      <td>-1</td>\n",
              "      <td>1</td>\n",
              "      <td>1</td>\n",
              "      <td>-1</td>\n",
              "      <td>1</td>\n",
              "      <td>...</td>\n",
              "      <td>0</td>\n",
              "      <td>-1</td>\n",
              "      <td>-1</td>\n",
              "      <td>-1</td>\n",
              "      <td>0</td>\n",
              "      <td>-1</td>\n",
              "      <td>1</td>\n",
              "      <td>1</td>\n",
              "      <td>1</td>\n",
              "      <td>1</td>\n",
              "    </tr>\n",
              "  </tbody>\n",
              "</table>\n",
              "<p>5 rows × 27 columns</p>\n",
              "</div>\n",
              "      <button class=\"colab-df-convert\" onclick=\"convertToInteractive('df-cb366e98-ed7d-4771-bde0-a8e585dec280')\"\n",
              "              title=\"Convert this dataframe to an interactive table.\"\n",
              "              style=\"display:none;\">\n",
              "        \n",
              "  <svg xmlns=\"http://www.w3.org/2000/svg\" height=\"24px\"viewBox=\"0 0 24 24\"\n",
              "       width=\"24px\">\n",
              "    <path d=\"M0 0h24v24H0V0z\" fill=\"none\"/>\n",
              "    <path d=\"M18.56 5.44l.94 2.06.94-2.06 2.06-.94-2.06-.94-.94-2.06-.94 2.06-2.06.94zm-11 1L8.5 8.5l.94-2.06 2.06-.94-2.06-.94L8.5 2.5l-.94 2.06-2.06.94zm10 10l.94 2.06.94-2.06 2.06-.94-2.06-.94-.94-2.06-.94 2.06-2.06.94z\"/><path d=\"M17.41 7.96l-1.37-1.37c-.4-.4-.92-.59-1.43-.59-.52 0-1.04.2-1.43.59L10.3 9.45l-7.72 7.72c-.78.78-.78 2.05 0 2.83L4 21.41c.39.39.9.59 1.41.59.51 0 1.02-.2 1.41-.59l7.78-7.78 2.81-2.81c.8-.78.8-2.07 0-2.86zM5.41 20L4 18.59l7.72-7.72 1.47 1.35L5.41 20z\"/>\n",
              "  </svg>\n",
              "      </button>\n",
              "      \n",
              "  <style>\n",
              "    .colab-df-container {\n",
              "      display:flex;\n",
              "      flex-wrap:wrap;\n",
              "      gap: 12px;\n",
              "    }\n",
              "\n",
              "    .colab-df-convert {\n",
              "      background-color: #E8F0FE;\n",
              "      border: none;\n",
              "      border-radius: 50%;\n",
              "      cursor: pointer;\n",
              "      display: none;\n",
              "      fill: #1967D2;\n",
              "      height: 32px;\n",
              "      padding: 0 0 0 0;\n",
              "      width: 32px;\n",
              "    }\n",
              "\n",
              "    .colab-df-convert:hover {\n",
              "      background-color: #E2EBFA;\n",
              "      box-shadow: 0px 1px 2px rgba(60, 64, 67, 0.3), 0px 1px 3px 1px rgba(60, 64, 67, 0.15);\n",
              "      fill: #174EA6;\n",
              "    }\n",
              "\n",
              "    [theme=dark] .colab-df-convert {\n",
              "      background-color: #3B4455;\n",
              "      fill: #D2E3FC;\n",
              "    }\n",
              "\n",
              "    [theme=dark] .colab-df-convert:hover {\n",
              "      background-color: #434B5C;\n",
              "      box-shadow: 0px 1px 3px 1px rgba(0, 0, 0, 0.15);\n",
              "      filter: drop-shadow(0px 1px 2px rgba(0, 0, 0, 0.3));\n",
              "      fill: #FFFFFF;\n",
              "    }\n",
              "  </style>\n",
              "\n",
              "      <script>\n",
              "        const buttonEl =\n",
              "          document.querySelector('#df-cb366e98-ed7d-4771-bde0-a8e585dec280 button.colab-df-convert');\n",
              "        buttonEl.style.display =\n",
              "          google.colab.kernel.accessAllowed ? 'block' : 'none';\n",
              "\n",
              "        async function convertToInteractive(key) {\n",
              "          const element = document.querySelector('#df-cb366e98-ed7d-4771-bde0-a8e585dec280');\n",
              "          const dataTable =\n",
              "            await google.colab.kernel.invokeFunction('convertToInteractive',\n",
              "                                                     [key], {});\n",
              "          if (!dataTable) return;\n",
              "\n",
              "          const docLinkHtml = 'Like what you see? Visit the ' +\n",
              "            '<a target=\"_blank\" href=https://colab.research.google.com/notebooks/data_table.ipynb>data table notebook</a>'\n",
              "            + ' to learn more about interactive tables.';\n",
              "          element.innerHTML = '';\n",
              "          dataTable['output_type'] = 'display_data';\n",
              "          await google.colab.output.renderOutput(dataTable, element);\n",
              "          const docLink = document.createElement('div');\n",
              "          docLink.innerHTML = docLinkHtml;\n",
              "          element.appendChild(docLink);\n",
              "        }\n",
              "      </script>\n",
              "    </div>\n",
              "  </div>\n",
              "  "
            ],
            "text/plain": [
              "   having_IP_Address  URL_Length  Shortining_Service  having_At_Symbol  \\\n",
              "0                 -1           1                   1                 1   \n",
              "1                  1           1                   1                 1   \n",
              "2                  1           0                   1                 1   \n",
              "3                  1           0                   1                 1   \n",
              "4                  1           0                  -1                 1   \n",
              "\n",
              "   double_slash_redirecting  Prefix_Suffix  having_Sub_Domain  SSLfinal_State  \\\n",
              "0                        -1             -1                 -1              -1   \n",
              "1                         1             -1                  0               1   \n",
              "2                         1             -1                 -1              -1   \n",
              "3                         1             -1                 -1              -1   \n",
              "4                         1             -1                  1               1   \n",
              "\n",
              "   Domain_registeration_length  port  ...  Redirect  popUpWidnow  \\\n",
              "0                           -1     1  ...         0            1   \n",
              "1                           -1     1  ...         0            1   \n",
              "2                           -1     1  ...         0            1   \n",
              "3                            1     1  ...         0            1   \n",
              "4                           -1     1  ...         0           -1   \n",
              "\n",
              "   age_of_domain  DNSRecord  web_traffic  Page_Rank  Google_Index  \\\n",
              "0             -1         -1           -1         -1             1   \n",
              "1             -1         -1            0         -1             1   \n",
              "2              1         -1            1         -1             1   \n",
              "3             -1         -1            1         -1             1   \n",
              "4             -1         -1            0         -1             1   \n",
              "\n",
              "   Links_pointing_to_page  Statistical_report  Result  \n",
              "0                       1                  -1       0  \n",
              "1                       1                   1       0  \n",
              "2                       0                  -1       0  \n",
              "3                      -1                   1       0  \n",
              "4                       1                   1       1  \n",
              "\n",
              "[5 rows x 27 columns]"
            ]
          },
          "execution_count": 2,
          "metadata": {},
          "output_type": "execute_result"
        }
      ],
      "source": [
        "# Importing the dataset\n",
        "df = pd.read_csv(\"phishing_dataset.csv\")\n",
        "df.pop(\"id\")\n",
        "df.pop(\"RightClick\")\n",
        "df.pop(\"Iframe\")\n",
        "df.pop(\"on_mouseover\")\n",
        "df.pop(\"Favicon\")\n",
        "df[\"Result\"].replace(-1, 0, inplace=True)\n",
        "df.head()"
      ]
    },
    {
      "cell_type": "code",
      "execution_count": 3,
      "metadata": {
        "id": "lnuGTsHIyERr"
      },
      "outputs": [],
      "source": [
        "# Separating the data into X and y\n",
        "X = df.iloc[:, :-1].values\n",
        "y = df.iloc[:, -1].values"
      ]
    },
    {
      "cell_type": "code",
      "execution_count": 4,
      "metadata": {
        "id": "pOUpbyIsyERs"
      },
      "outputs": [],
      "source": [
        "# Splitting the dataset into the Training set, Validation set and Test set\n",
        "X_train, X_test, y_train, y_test = train_test_split(X, y, test_size=0.2, random_state=1)\n",
        "\n",
        "y_2d_train= y_train.reshape(-1, 1)\n",
        "y_2d_test = y_test.reshape(-1, 1)\n",
        "\n",
        "# Feature Scaling\n",
        "scaler = StandardScaler()\n",
        "X_train = scaler.fit_transform(X_train)\n",
        "X_test = scaler.transform(X_test)"
      ]
    },
    {
      "cell_type": "code",
      "execution_count": 5,
      "metadata": {
        "id": "XQwqn5v6yERs"
      },
      "outputs": [],
      "source": [
        "ones = np.ones((X_train.shape[0], 1))\n",
        "X_train_1 = np.hstack((ones, X_train))"
      ]
    },
    {
      "cell_type": "code",
      "execution_count": 6,
      "metadata": {
        "id": "EGgvybCqyERs"
      },
      "outputs": [],
      "source": [
        "def sigmoid(z):\n",
        "    return 1 / (1 + np.exp(-z))"
      ]
    },
    {
      "cell_type": "code",
      "execution_count": 7,
      "metadata": {
        "id": "c_6gQ1DDyERs"
      },
      "outputs": [],
      "source": [
        "w_init = np.zeros((X_train_1.shape[1], 1))"
      ]
    },
    {
      "cell_type": "code",
      "execution_count": 8,
      "metadata": {
        "id": "BzFZx8LZyERs"
      },
      "outputs": [],
      "source": [
        "def hypothesis(X, w):\n",
        "    return sigmoid(np.dot(X, w))"
      ]
    },
    {
      "cell_type": "code",
      "execution_count": 9,
      "metadata": {
        "id": "eiGaVSTZyERs"
      },
      "outputs": [],
      "source": [
        "y_hat_init = hypothesis(X_train_1,w_init)"
      ]
    },
    {
      "cell_type": "code",
      "execution_count": 10,
      "metadata": {
        "id": "L_R12670yERs"
      },
      "outputs": [],
      "source": [
        "def log_likelihood(X, y, w):\n",
        "    return np.sum(y * np.log(hypothesis(X, w)) + (1 - y) * np.log(1 - hypothesis(X, w)))"
      ]
    },
    {
      "cell_type": "code",
      "execution_count": 11,
      "metadata": {
        "id": "Z9Um5DbbyERt"
      },
      "outputs": [],
      "source": [
        "def Gradient_Ascent(X, y, learning_rate, num_iters):\n",
        "    N = X.shape[0]\n",
        "    w = np.zeros((X.shape[1],1))\n",
        "    \n",
        "    # Gradient Ascent - local optimization technique\n",
        "    for _ in range(num_iters):\n",
        "        w = w + (learning_rate / N) * (X.T.dot(y - hypothesis(X, w)))\n",
        "\n",
        "    return w"
      ]
    },
    {
      "cell_type": "code",
      "execution_count": 12,
      "metadata": {
        "id": "o9wuTxLzyERt"
      },
      "outputs": [],
      "source": [
        "learning_rate = 0.03\n",
        "num_iters = 3000\n",
        "# Calculate w and likelihood values using Gradient_Ascent with X_train_1, y_2d_train\n",
        "w = Gradient_Ascent(X_train_1, y_2d_train, learning_rate, num_iters)"
      ]
    },
    {
      "cell_type": "code",
      "execution_count": 13,
      "metadata": {
        "id": "tUzfexMXyERt"
      },
      "outputs": [],
      "source": [
        "def predict_class(X, w, t):\n",
        "    prediction = hypothesis(X, w)\n",
        "    return np.where(prediction >= t, 1, 0)"
      ]
    },
    {
      "cell_type": "code",
      "execution_count": 14,
      "metadata": {
        "id": "_t3-PyoWyERt"
      },
      "outputs": [],
      "source": [
        "ones = np.ones((X_test.shape[0], 1))\n",
        "X_test_1 = np.hstack((ones, X_test))\n",
        "y_hat = predict_class(X_test_1, w, 0.5)"
      ]
    },
    {
      "cell_type": "code",
      "execution_count": 15,
      "metadata": {
        "colab": {
          "base_uri": "https://localhost:8080/"
        },
        "id": "q-in1ndByERt",
        "outputId": "858d9d4b-25ee-431f-8f13-eb893f38ca84"
      },
      "outputs": [
        {
          "name": "stdout",
          "output_type": "stream",
          "text": [
            "Accuracy for Logistic Regression with no Regularization and no Polynomial Transformations: 92.49208502939847%\n"
          ]
        }
      ],
      "source": [
        "print(f\"Accuracy for Logistic Regression with no Regularization and no Polynomial Transformations: {accuracy_score(y_2d_test, y_hat)*100}%\")"
      ]
    },
    {
      "cell_type": "code",
      "execution_count": 16,
      "metadata": {
        "colab": {
          "base_uri": "https://localhost:8080/",
          "height": 489
        },
        "id": "hv3ZAgEzyERt",
        "outputId": "09520fc1-1ac2-486b-8140-c7b9e9d5a226"
      },
      "outputs": [
        {
          "data": {
            "image/png": "[encoded data removed]",
            "text/plain": [
              "<Figure size 640x480 with 1 Axes>"
            ]
          },
          "metadata": {},
          "output_type": "display_data"
        },
        {
          "name": "stdout",
          "output_type": "stream",
          "text": [
            "Best degree of polynomial: 3\n"
          ]
        }
      ],
      "source": [
        "kfold = KFold(n_splits=5, shuffle=True, random_state=1)\n",
        "validation_scores, training_scores = [], []\n",
        "\n",
        "for degree in range(1, 4):\n",
        "    avg_score_v, avg_score_t = [], []\n",
        "    for train_index, val_index in kfold.split(X_train):\n",
        "        X_train_fold, X_val_fold = X_train[train_index], X_train[val_index]\n",
        "        y_train_fold, y_val_fold = y_train[train_index], y_train[val_index]\n",
        "\n",
        "        poly = PolynomialFeatures(degree)\n",
        "        X_train_poly = poly.fit_transform(X_train_fold)\n",
        "        X_val_poly = poly.transform(X_val_fold)\n",
        "\n",
        "        y_2d_train_fold = y_train_fold.reshape(-1, 1)\n",
        "        y_2d_val_fold = y_val_fold.reshape(-1, 1)\n",
        "\n",
        "        w = Gradient_Ascent(X_train_poly, y_2d_train_fold, learning_rate, num_iters)\n",
        "\n",
        "        avg_score_v.append(accuracy_score(y_2d_val_fold, predict_class(X_val_poly, w, 0.5)))\n",
        "        avg_score_t.append(accuracy_score(y_2d_train_fold, predict_class(X_train_poly, w, 0.5)))\n",
        "\n",
        "    validation_scores.append(np.mean(avg_score_v))\n",
        "    training_scores.append(np.mean(avg_score_t))\n",
        "\n",
        "plt.title(\"Degree Vs Accuracy\")\n",
        "plt.plot(range(1, 4), validation_scores, color=\"blue\", label=\"validation\")\n",
        "plt.plot(range(1, 4), training_scores, color=\"red\", label=\"training\")\n",
        "plt.xlabel(\"Degree\")\n",
        "plt.ylabel(\"Validation Accuracy\")\n",
        "plt.legend()\n",
        "plt.show()\n",
        "\n",
        "# Find the best degree of polynomial\n",
        "best_degree = np.argmax(validation_scores) + 1\n",
        "print(\"Best degree of polynomial:\", best_degree)"
      ]
    },
    {
      "cell_type": "code",
      "execution_count": 17,
      "metadata": {
        "colab": {
          "base_uri": "https://localhost:8080/"
        },
        "id": "EXLLLYA2yERu",
        "outputId": "e4db37b8-3273-4851-a1fd-22edb15ef5a6"
      },
      "outputs": [
        {
          "name": "stdout",
          "output_type": "stream",
          "text": [
            "Accuracy with 3rd degree polynomial on test data: 96.11035730438715%\n"
          ]
        }
      ],
      "source": [
        "poly = PolynomialFeatures(3)\n",
        "\n",
        "X_train_poly = poly.fit_transform(X_train)\n",
        "X_test_poly = poly.transform(X_test)\n",
        "\n",
        "w = Gradient_Ascent(X_train_poly, y_2d_train, learning_rate, num_iters)\n",
        "\n",
        "y_hat = predict_class(X_test_poly, w, 0.5)\n",
        "score = accuracy_score(y_2d_test, y_hat)\n",
        "print(f\"Accuracy with 3rd degree polynomial on test data: {score*100}%\")"
      ]
    },
    {
      "cell_type": "code",
      "execution_count": 18,
      "metadata": {
        "id": "rTlToMvmyERv"
      },
      "outputs": [],
      "source": [
        "def Gradient_Ascent_L1_Regularization(X, y, learning_rate, num_iters, lambda1):\n",
        "    N = X.shape[0]\n",
        "    w = np.zeros((X.shape[1],1))\n",
        "    \n",
        "    # Gradient Ascent - local optimization technique\n",
        "    for _ in range(num_iters):\n",
        "        w = w + (learning_rate / N) * (X.T.dot(y - hypothesis(X, w)))\n",
        "        w += (lambda1 / N) * np.sign(w)\n",
        "\n",
        "    return w\n",
        "\n",
        "def Gradient_Ascent_L2_Regularization(X, y, learning_rate, num_iters, lambda2):\n",
        "    N = X.shape[0]\n",
        "    w = np.zeros((X.shape[1],1))\n",
        "    \n",
        "    # Gradient Ascent - local optimization technique\n",
        "    for _ in range(num_iters):\n",
        "        w = w + (learning_rate / N) * (X.T.dot(y - hypothesis(X, w)))\n",
        "        w += (lambda2 / N) * w\n",
        "\n",
        "    return w"
      ]
    },
    {
      "cell_type": "code",
      "execution_count": 19,
      "metadata": {
        "id": "ECLbi4EfyERv"
      },
      "outputs": [],
      "source": [
        "poly = PolynomialFeatures(3)\n",
        "\n",
        "X_train_poly = poly.fit_transform(X_train)\n",
        "X_test_poly = poly.transform(X_test)"
      ]
    },
    {
      "cell_type": "code",
      "execution_count": 20,
      "metadata": {
        "colab": {
          "base_uri": "https://localhost:8080/",
          "height": 489
        },
        "id": "R4_eu2BUyERv",
        "outputId": "71b716f1-0fe2-41ad-ebb1-34046025167e"
      },
      "outputs": [
        {
          "data": {
            "image/png": "[encoded data removed]",
            "text/plain": [
              "<Figure size 640x480 with 1 Axes>"
            ]
          },
          "metadata": {},
          "output_type": "display_data"
        },
        {
          "name": "stdout",
          "output_type": "stream",
          "text": [
            "Best lambda for L1 regularization: 0.001\n"
          ]
        }
      ],
      "source": [
        "kfold = KFold(n_splits=5, shuffle=True, random_state=1)\n",
        "validation_scores, training_scores = [], []\n",
        "\n",
        "for lambda1 in [0.001, 0.01, 0.1]:\n",
        "    avg_score_v, avg_score_t = [], []\n",
        "    for train_index, val_index in kfold.split(X_train_poly):\n",
        "        X_train_fold, X_val_fold = X_train_poly[train_index], X_train_poly[val_index]\n",
        "        y_train_fold, y_val_fold = y_train[train_index], y_train[val_index]\n",
        "\n",
        "        y_2d_train_fold = y_train_fold.reshape(-1, 1)\n",
        "        y_2d_val_fold = y_val_fold.reshape(-1, 1)\n",
        "\n",
        "        w = Gradient_Ascent_L1_Regularization(X_train_fold, y_2d_train_fold, learning_rate, num_iters, lambda1)\n",
        "\n",
        "        avg_score_v.append(accuracy_score(y_2d_val_fold, predict_class(X_val_fold, w, 0.5)))\n",
        "        avg_score_t.append(accuracy_score(y_2d_train_fold, predict_class(X_train_fold, w, 0.5)))\n",
        "\n",
        "    validation_scores.append(np.mean(avg_score_v))\n",
        "    training_scores.append(np.mean(avg_score_t))\n",
        "\n",
        "plt.title(\"Lambda Vs Accuracy\")\n",
        "plt.plot([0.001, 0.01, 0.1], validation_scores, color=\"blue\", label=\"validation\")\n",
        "plt.plot([0.001, 0.01, 0.1], training_scores, color=\"red\", label=\"training\")\n",
        "plt.xlabel(\"Lambda\")\n",
        "plt.ylabel(\"Validation Accuracy\")\n",
        "plt.legend()\n",
        "plt.show()\n",
        "\n",
        "# Find the best lambda for L1 regularization\n",
        "best_lambda1 = [0.001, 0.01, 0.1][np.argmax(validation_scores)]\n",
        "print(\"Best lambda for L1 regularization:\", best_lambda1)"
      ]
    },
    {
      "cell_type": "code",
      "execution_count": 21,
      "metadata": {
        "colab": {
          "base_uri": "https://localhost:8080/",
          "height": 489
        },
        "id": "GqLSuuQayERw",
        "outputId": "938e8604-4ea5-4478-eaad-0fd5957fdc0e"
      },
      "outputs": [
        {
          "data": {
            "image/png": "[encoded data removed]",
            "text/plain": [
              "<Figure size 640x480 with 1 Axes>"
            ]
          },
          "metadata": {},
          "output_type": "display_data"
        },
        {
          "name": "stdout",
          "output_type": "stream",
          "text": [
            "Best lambda for L2 regularization: 0.001\n"
          ]
        }
      ],
      "source": [
        "kfold = KFold(n_splits=5, shuffle=True, random_state=1)\n",
        "validation_scores, training_scores = [], []\n",
        "\n",
        "for lambda2 in [0.001, 0.01, 0.1]:\n",
        "    avg_score_v, avg_score_t = [], []\n",
        "    for train_index, val_index in kfold.split(X_train_poly):\n",
        "        X_train_fold, X_val_fold = X_train_poly[train_index], X_train_poly[val_index]\n",
        "        y_train_fold, y_val_fold = y_train[train_index], y_train[val_index]\n",
        "\n",
        "        y_2d_train_fold = y_train_fold.reshape(-1, 1)\n",
        "        y_2d_val_fold = y_val_fold.reshape(-1, 1)\n",
        "\n",
        "        w = Gradient_Ascent_L2_Regularization(X_train_fold, y_2d_train_fold, learning_rate, num_iters, lambda2)\n",
        "\n",
        "        avg_score_v.append(accuracy_score(y_2d_val_fold, predict_class(X_val_fold, w, 0.5)))\n",
        "        avg_score_t.append(accuracy_score(y_2d_train_fold, predict_class(X_train_fold, w, 0.5)))\n",
        "\n",
        "    validation_scores.append(np.mean(avg_score_v))\n",
        "    training_scores.append(np.mean(avg_score_t))\n",
        "\n",
        "plt.title(\"Lambda Vs Accuracy\")\n",
        "plt.plot([0.001, 0.01, 0.1], validation_scores, color=\"blue\", label=\"validation\")\n",
        "plt.plot([0.001, 0.01, 0.1], training_scores, color=\"red\", label=\"training\")\n",
        "plt.xlabel(\"Lambda\")\n",
        "plt.ylabel(\"Validation Accuracy\")\n",
        "plt.legend()\n",
        "plt.show()\n",
        "\n",
        "# Find the best lambda for L1 regularization\n",
        "best_lambda2 = [0.001, 0.01, 0.1][np.argmax(validation_scores)]\n",
        "print(\"Best lambda for L2 regularization:\", best_lambda2)"
      ]
    },
    {
      "cell_type": "code",
      "execution_count": 22,
      "metadata": {
        "colab": {
          "base_uri": "https://localhost:8080/"
        },
        "id": "ntKSuqEFyERw",
        "outputId": "52b189c4-6542-42f9-c7a8-df206be5124f"
      },
      "outputs": [
        {
          "name": "stdout",
          "output_type": "stream",
          "text": [
            "Accuracy with 3rd degree polynomial and L2 regularization with lambda=0.1 on test data: 96.11035730438715%\n"
          ]
        }
      ],
      "source": [
        "w = Gradient_Ascent_L2_Regularization(X_train_poly, y_2d_train, learning_rate, num_iters, best_lambda1)\n",
        "\n",
        "y_hat = predict_class(X_test_poly, w, 0.5)\n",
        "score = accuracy_score(y_2d_test, y_hat)\n",
        "print(f\"Accuracy with 3rd degree polynomial and L2 regularization with lambda=0.1 on test data: {score*100}%\")"
      ]
    },
    {
      "cell_type": "code",
      "execution_count": 25,
      "metadata": {
        "colab": {
          "base_uri": "https://localhost:8080/",
          "height": 466
        },
        "id": "HvJ2PahjPnL2",
        "outputId": "6992dc97-b394-4a10-aceb-f70b68d18e35"
      },
      "outputs": [
        {
          "data": {
            "image/png": "[encoded data removed]",
            "text/plain": [
              "<Figure size 640x480 with 2 Axes>"
            ]
          },
          "metadata": {},
          "output_type": "display_data"
        },
        {
          "name": "stdout",
          "output_type": "stream",
          "text": [
            "F1 score: 0.9651257096512571\n"
          ]
        }
      ],
      "source": [
        "from sklearn.metrics import confusion_matrix, ConfusionMatrixDisplay\n",
        "from sklearn.metrics import f1_score\n",
        "\n",
        "cm = confusion_matrix(y_2d_test, y_hat)\n",
        "disp = ConfusionMatrixDisplay(confusion_matrix=cm)\n",
        "disp.plot()\n",
        "plt.show()\n",
        "\n",
        "print(\"F1 score:\", f1_score(y_2d_test, y_hat))"
      ]
    }
  ],
  "metadata": {
    "colab": {
      "provenance": []
    },
    "kernelspec": {
      "display_name": "Python 3",
      "language": "python",
      "name": "python3"
    },
    "language_info": {
      "codemirror_mode": {
        "name": "ipython",
        "version": 3
      },
      "file_extension": ".py",
      "mimetype": "text/x-python",
      "name": "python",
      "nbconvert_exporter": "python",
      "pygments_lexer": "ipython3",
      "version": "3.10.4"
    },
    "orig_nbformat": 4
  },
  "nbformat": 4,
  "nbformat_minor": 0
}
